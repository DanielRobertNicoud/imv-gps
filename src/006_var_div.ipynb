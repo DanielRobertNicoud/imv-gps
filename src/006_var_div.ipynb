{
 "cells": [
  {
   "cell_type": "code",
   "execution_count": null,
   "id": "254fe3b2-a91e-4021-8dae-8c022626a0ac",
   "metadata": {},
   "outputs": [],
   "source": [
    "import numpy as np\n",
    "import matplotlib.pyplot as plt\n",
    "import seaborn as sns\n",
    "import pandas as pd"
   ]
  },
  {
   "cell_type": "markdown",
   "id": "9b4fed55-2e64-4c2e-b324-64c204571944",
   "metadata": {},
   "source": [
    "On the sphere."
   ]
  },
  {
   "cell_type": "code",
   "execution_count": null,
   "id": "eb81b05f-9c02-41fa-866f-78f2e87d21f1",
   "metadata": {},
   "outputs": [],
   "source": [
    "def phi(lam, nu, kappa):\n",
    "    if nu == \"infty\":\n",
    "        return np.exp(-lam * kappa**2 / 2)\n",
    "    return np.power(2 * nu / kappa + lam, -nu - 1)"
   ]
  },
  {
   "cell_type": "code",
   "execution_count": null,
   "id": "546c2a27-2a70-4d0d-a3d3-97dec8697236",
   "metadata": {},
   "outputs": [],
   "source": [
    "max_ell = 35\n",
    "lambdas = np.array([ell * (ell + 1) for ell in range(max_ell + 1)])"
   ]
  },
  {
   "cell_type": "code",
   "execution_count": null,
   "id": "4e6bb607-6a76-46e8-9e95-a435ac4161eb",
   "metadata": {},
   "outputs": [],
   "source": [
    "def var_div_hm(nu, kappa, sigma_squared):\n",
    "    phi_0 = phi(lambdas[0], nu, kappa)\n",
    "    C_0 = sum([phi(lam, nu, kappa) for lam in lambdas])\n",
    "    sum_lam_phi = sum([lam * phi(lam, nu, kappa) for lam in lambdas[1:]])\n",
    "    return sigma_squared * sum_lam_phi / (8 * np.pi * (C_0 - phi_0))"
   ]
  },
  {
   "cell_type": "code",
   "execution_count": null,
   "id": "312eeb11-6041-46c9-9459-f18157822e14",
   "metadata": {},
   "outputs": [],
   "source": [
    "def var_div_pm(nu, kappa, sigma_squared):\n",
    "    phi_0 = phi(lambdas[0], nu, kappa)\n",
    "    C_0 = sum([phi(lam, nu, kappa) for lam in lambdas])\n",
    "    sum_lam_phi = sum([lam * phi(lam, nu, kappa) for lam in lambdas[1:]])\n",
    "    return sigma_squared * (sum_lam_phi / (4 * np.pi * C_0 - phi_0) + 1) / 2"
   ]
  },
  {
   "cell_type": "code",
   "execution_count": null,
   "id": "8511a35c-edcf-457e-b491-f7e516489057",
   "metadata": {},
   "outputs": [],
   "source": [
    "kappa = np.linspace(.05, .5, 200)\n",
    "\n",
    "hm_infty = var_div_hm(nu=\"infty\", kappa=kappa, sigma_squared=1)\n",
    "hm_1_2 = var_div_hm(nu=0.5, kappa=kappa, sigma_squared=1)\n",
    "pm_infty = var_div_pm(nu=\"infty\", kappa=kappa, sigma_squared=1)\n",
    "pm_1_2 = var_div_pm(nu=0.5, kappa=kappa, sigma_squared=1)\n",
    "\n",
    "df = pd.DataFrame({\n",
    "    r\"$\\kappa$\": kappa,\n",
    "    r\"$\\mathrm{Var}(\\operatorname{div}f_{\\infty,\\kappa})$\": hm_infty,\n",
    "    r\"$\\mathrm{Var}(\\operatorname{div}f_{1/2,\\kappa})$\": hm_1_2,\n",
    "    r\"$\\mathrm{Var}(\\operatorname{div}f^\\pi_{\\infty,\\kappa})$\": pm_infty,\n",
    "    r\"$\\mathrm{Var}(\\operatorname{div}f^\\pi_{1/2,\\kappa})$\": pm_1_2,\n",
    "}).set_index(r\"$\\kappa$\")\n",
    "\n",
    "fig, ax = plt.subplots()\n",
    "sns.lineplot(df, ax=ax)\n",
    "\n",
    "ax.set_yscale(\"log\")\n",
    "ax.set_title(\"Variance of divergence for Gaussian vector fields\")"
   ]
  },
  {
   "cell_type": "code",
   "execution_count": null,
   "id": "5e6eb23f-1788-47b4-8036-faf79eb77356",
   "metadata": {},
   "outputs": [],
   "source": []
  }
 ],
 "metadata": {
  "kernelspec": {
   "display_name": "Python 3 (ipykernel)",
   "language": "python",
   "name": "python3"
  },
  "language_info": {
   "codemirror_mode": {
    "name": "ipython",
    "version": 3
   },
   "file_extension": ".py",
   "mimetype": "text/x-python",
   "name": "python",
   "nbconvert_exporter": "python",
   "pygments_lexer": "ipython3",
   "version": "3.8.15"
  }
 },
 "nbformat": 4,
 "nbformat_minor": 5
}
