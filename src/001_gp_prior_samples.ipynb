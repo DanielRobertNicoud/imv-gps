{
 "cells": [
  {
   "cell_type": "code",
   "execution_count": null,
   "id": "73871590-9185-498e-b415-74b5f0c28043",
   "metadata": {},
   "outputs": [],
   "source": [
    "from aux_functions import *\n",
    "from sphere_vector_kernels import *\n",
    "from sphere_vector_gp import *\n",
    "from blender_file_generation import *\n",
    "\n",
    "import matplotlib.pyplot as plt\n",
    "import os\n",
    "import pandas as pd\n",
    "from sklearn.gaussian_process.kernels import ConstantKernel"
   ]
  },
  {
   "cell_type": "code",
   "execution_count": null,
   "id": "07828fb8-a5f6-461f-8622-3eac6f8bdeb2",
   "metadata": {},
   "outputs": [],
   "source": [
    "def plot_samples(lon, lat, samples, nrows, ncols, suptitle=\"\"):\n",
    "    assert samples.shape[2] <= nrows * ncols, \"Not enough subplots to display all samples!\"\n",
    "    fig, axs = plt.subplots(nrows=nrows, ncols=ncols, figsize=(5 * nrows, 5 * ncols))\n",
    "\n",
    "    for k in range(samples.shape[2]):\n",
    "        i, j = k // ncols, k % ncols\n",
    "        \n",
    "        sample = samples[:, :, k]\n",
    "\n",
    "        axs[i, j].quiver(lon, lat, sample[:, 1], sample[:, 0], angles=\"uv\")\n",
    "        axs[i, j].set_xlabel(\"lon\")\n",
    "        axs[i, j].set_ylabel(\"lat\")\n",
    "        axs[i, j].set_title(f\"Sample {k + 1}\")\n",
    "\n",
    "    fig.suptitle(suptitle)\n",
    "    fig.tight_layout()\n",
    "    return fig"
   ]
  },
  {
   "cell_type": "markdown",
   "id": "d8c57dbc-ca85-487a-a3cb-8198cadc0e1e",
   "metadata": {},
   "source": [
    "## Read data\n",
    "\n",
    "Blender input data points."
   ]
  },
  {
   "cell_type": "code",
   "execution_count": null,
   "id": "c600b61f-49ce-4913-9ab8-f9b1ae684f32",
   "metadata": {},
   "outputs": [],
   "source": [
    "blender_folder = \"blender-data\"\n",
    "out_folder = os.path.join(\"blender-data\", \"outputs\")\n",
    "\n",
    "mean_inputs = pd.read_csv(\n",
    "    os.path.join(blender_folder, \"mean_inputs.csv\"),\n",
    "    names=[\"x\", \"y\", \"z\"]\n",
    ").to_numpy()"
   ]
  },
  {
   "cell_type": "code",
   "execution_count": null,
   "id": "0949dbf8-4a01-44bb-8696-e929fe06696e",
   "metadata": {},
   "outputs": [],
   "source": [
    "mean_inputs_sph = car_to_sph(mean_inputs)"
   ]
  },
  {
   "cell_type": "markdown",
   "id": "88810d2a-26cc-4fe7-9c1c-fa417324f5cb",
   "metadata": {},
   "source": [
    "## GPs\n",
    "\n",
    "GPs with variance 1 for the differnet kernels."
   ]
  },
  {
   "cell_type": "code",
   "execution_count": null,
   "id": "414879c8-56a1-4538-a353-ea785740ec7b",
   "metadata": {},
   "outputs": [],
   "source": [
    "kappa = 10\n",
    "\n",
    "k_proj = ProjectedSphereKernel(kappa=kappa)\n",
    "k_hodge = HodgeSphereKernel(kappa=kappa)"
   ]
  },
  {
   "cell_type": "code",
   "execution_count": null,
   "id": "69943548-0aa9-463f-a95c-21853e4b2929",
   "metadata": {},
   "outputs": [],
   "source": [
    "# find normalizations\n",
    "norm_proj = k_proj(np.array([[0., 0.]], dtype=\"float64\"))[0, 0]\n",
    "norm_hodge = k_hodge(np.array([[0., 0.]], dtype=\"float64\"))[0, 0]"
   ]
  },
  {
   "cell_type": "code",
   "execution_count": null,
   "id": "75397fd2-d369-447d-a840-8c89b6d15de7",
   "metadata": {},
   "outputs": [],
   "source": [
    "k_proj = ConstantKernel(1 / norm_proj) * k_proj\n",
    "k_hodge = ConstantKernel(1 / norm_hodge) * k_hodge"
   ]
  },
  {
   "cell_type": "code",
   "execution_count": null,
   "id": "56902828-7c1a-47d8-8373-aab46b9ee478",
   "metadata": {},
   "outputs": [],
   "source": [
    "gp_proj = SphereVectorGP(kernel=k_proj, n_restarts_optimizer=0)\n",
    "gp_hodge = SphereVectorGP(kernel=k_hodge, n_restarts_optimizer=0)"
   ]
  },
  {
   "cell_type": "markdown",
   "id": "13c40118-fd88-4d2b-b400-eb388067467c",
   "metadata": {},
   "source": [
    "## Generate samples"
   ]
  },
  {
   "cell_type": "code",
   "execution_count": null,
   "id": "bde4cc60-bf17-44df-b8e7-a30a8e551f3f",
   "metadata": {},
   "outputs": [],
   "source": [
    "n_samples = 6"
   ]
  },
  {
   "cell_type": "code",
   "execution_count": null,
   "id": "077937bc-f199-4e0a-b5c3-aba688c5f708",
   "metadata": {},
   "outputs": [],
   "source": [
    "samples_hodge = gp_hodge.sample_y(mean_inputs_sph, n_samples=n_samples)"
   ]
  },
  {
   "cell_type": "code",
   "execution_count": null,
   "id": "d1697c1a-3c47-49d8-8a02-b6a1aed58ad7",
   "metadata": {},
   "outputs": [],
   "source": [
    "samples_proj = gp_proj.sample_y(mean_inputs_sph, n_samples=n_samples)"
   ]
  },
  {
   "cell_type": "code",
   "execution_count": null,
   "id": "abd770f7-059f-458c-9b77-9864c15826fe",
   "metadata": {},
   "outputs": [],
   "source": [
    "fig = plot_samples(mean_inputs_sph[:, 1], mean_inputs_sph[:, 0], samples_hodge, (n_samples + 1)//2, 2, suptitle=f\"Samples from Hodge kernel ({kappa=})\")"
   ]
  },
  {
   "cell_type": "code",
   "execution_count": null,
   "id": "b9cec3e8-66cb-42f0-96cc-9501a8166a80",
   "metadata": {
    "tags": []
   },
   "outputs": [],
   "source": [
    "fig = plot_samples(mean_inputs_sph[:, 1], mean_inputs_sph[:, 0], samples_proj, (n_samples + 1)//2, 2, suptitle=f\"Samples from projected kernel ({kappa=})\")"
   ]
  },
  {
   "cell_type": "code",
   "execution_count": null,
   "id": "833fc56e-95b6-4ee9-80c9-7ca3febd91ed",
   "metadata": {},
   "outputs": [],
   "source": [
    "out_folder = os.path.join(\"blender-data\", \"outputs\")\n",
    "for k in range(n_samples):\n",
    "    sp, sh = samples_proj[:, :, k], samples_hodge[:, :, k]\n",
    "    _, sp = v_sph_to_car(mean_inputs_sph, sp)\n",
    "    _, sh = v_sph_to_car(mean_inputs_sph, sh)\n",
    "    \n",
    "    np.savetxt(os.path.join(out_folder, f\"proj_prior_sample_{kappa=}_{k}__mean.csv\"), np.hstack([mean_inputs, sp]), delimiter=\",\")\n",
    "    np.savetxt(os.path.join(out_folder, f\"hodge_prior_sample_{kappa=}_{k}__mean.csv\"), np.hstack([mean_inputs, sh]), delimiter=\",\")"
   ]
  },
  {
   "cell_type": "markdown",
   "id": "5d9884d3-71a9-49ec-bda4-2a3db09d2f4b",
   "metadata": {},
   "source": [
    "### dif-free and curl-free"
   ]
  },
  {
   "cell_type": "code",
   "execution_count": null,
   "id": "62b1b059-1ef3-41fb-b179-3187053774e1",
   "metadata": {},
   "outputs": [],
   "source": [
    "# div free\n",
    "n_samples = 6\n",
    "kappa = 10\n",
    "k = HodgeMaternDivFreeSphereKernel(kappa=kappa)\n",
    "norm = k(np.array([[0., 0.]], dtype=\"float64\"))[0, 0]\n",
    "k = ConstantKernel(1 / norm) * k\n",
    "gp = SphereVectorGP(kernel=k, n_restarts_optimizer=0)\n",
    "print(\"Sampling...\")\n",
    "samples = gp.sample_y(mean_inputs_sph, n_samples=n_samples)\n",
    "print(\"Done!\")\n",
    "fig = plot_samples(\n",
    "    mean_inputs_sph[:, 1], mean_inputs_sph[:, 0],\n",
    "    samples, (n_samples + 1)//2, 2,\n",
    "    suptitle=f\"Samples div-free ({kappa=})\"\n",
    ")\n",
    "\n",
    "out_folder = os.path.join(\"blender-data\", \"outputs\")\n",
    "for k in range(samples.shape[-1]):\n",
    "    s = samples[:, :, k]\n",
    "    _, s = v_sph_to_car(mean_inputs_sph, s)\n",
    "    \n",
    "    np.savetxt(os.path.join(out_folder, f\"sample_div_free_{k}__mean.csv\"), np.hstack([mean_inputs, s]), delimiter=\",\")"
   ]
  },
  {
   "cell_type": "code",
   "execution_count": null,
   "id": "fa9c3bde-adb8-41e3-a138-6c7810f7e08f",
   "metadata": {},
   "outputs": [],
   "source": [
    "# curl free\n",
    "n_samples = 6\n",
    "kappa = 10\n",
    "k = HodgeMaternCurlFreeSphereKernel(kappa=kappa)\n",
    "norm = k(np.array([[0., 0.]], dtype=\"float64\"))[0, 0]\n",
    "k = ConstantKernel(1 / norm) * k\n",
    "gp = SphereVectorGP(kernel=k, n_restarts_optimizer=0)\n",
    "print(\"Sampling...\")\n",
    "samples = gp.sample_y(mean_inputs_sph, n_samples=n_samples)\n",
    "print(\"Done!\")\n",
    "fig = plot_samples(\n",
    "    mean_inputs_sph[:, 1], mean_inputs_sph[:, 0],\n",
    "    samples, (n_samples + 1)//2, 2,\n",
    "    suptitle=f\"Samples curl-free ({kappa=})\"\n",
    ")\n",
    "\n",
    "out_folder = os.path.join(\"blender-data\", \"outputs\")\n",
    "for k in range(samples.shape[-1]):\n",
    "    s = samples[:, :, k]\n",
    "    _, s = v_sph_to_car(mean_inputs_sph, s)\n",
    "    \n",
    "    np.savetxt(os.path.join(out_folder, f\"sample_curl_free_{k}__mean.csv\"), np.hstack([mean_inputs, s]), delimiter=\",\")"
   ]
  },
  {
   "cell_type": "code",
   "execution_count": null,
   "id": "610660bf-95be-45ab-9006-d9b68c51c774",
   "metadata": {},
   "outputs": [],
   "source": []
  }
 ],
 "metadata": {
  "kernelspec": {
   "display_name": "Python 3 (ipykernel)",
   "language": "python",
   "name": "python3"
  },
  "language_info": {
   "codemirror_mode": {
    "name": "ipython",
    "version": 3
   },
   "file_extension": ".py",
   "mimetype": "text/x-python",
   "name": "python",
   "nbconvert_exporter": "python",
   "pygments_lexer": "ipython3",
   "version": "3.8.15"
  }
 },
 "nbformat": 4,
 "nbformat_minor": 5
}
