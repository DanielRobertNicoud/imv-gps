{
 "cells": [
  {
   "cell_type": "code",
   "execution_count": null,
   "id": "91a3cc32-aba9-49ff-a6a5-68b98e0afb5f",
   "metadata": {},
   "outputs": [],
   "source": [
    "from aux_functions import *\n",
    "from sphere_vector_kernels import *\n",
    "from sphere_vector_gp import *\n",
    "\n",
    "import os\n",
    "import numpy as np\n",
    "import pandas as pd\n",
    "from tqdm import tqdm\n",
    "import itertools as it\n",
    "import pickle\n",
    "import re\n",
    "\n",
    "from sklearn.gaussian_process.kernels import ConstantKernel, WhiteKernel"
   ]
  },
  {
   "cell_type": "markdown",
   "id": "5a869718-a5c3-4379-8968-130563ff076d",
   "metadata": {},
   "source": [
    "# Utility functions"
   ]
  },
  {
   "cell_type": "code",
   "execution_count": null,
   "id": "bb4d01fd-4274-4716-952d-85a1dbbb9da6",
   "metadata": {},
   "outputs": [],
   "source": [
    "TEMP = os.path.join(\"temp\", \"synthetic_experiments\")"
   ]
  },
  {
   "cell_type": "code",
   "execution_count": null,
   "id": "da937de2-9ffc-4f75-b7c4-b2d114a7ec46",
   "metadata": {},
   "outputs": [],
   "source": [
    "def save_experiment(X_train, y_train, X_test, y_test, fname):\n",
    "    with open(os.path.join(TEMP, f\"{name}.pickle\"), 'wb') as f:\n",
    "        pickle.dump((X_train, y_train, X_test, y_test), f)"
   ]
  },
  {
   "cell_type": "code",
   "execution_count": null,
   "id": "a84ce6e5-bbbc-4e89-865b-cfd66b929d2b",
   "metadata": {},
   "outputs": [],
   "source": [
    "def mse(y_true, y_pred):\n",
    "    return jax.vmap(jax.jit(lambda a, b: jnp.linalg.norm(a - b)**2))(y_true, y_pred).mean()\n",
    "\n",
    "def pred_nll(y_true, y_pred, std_pred):\n",
    "    return -jax.vmap(jax.scipy.stats.multivariate_normal.logpdf)(y_true, y_pred, std_pred).mean()\n",
    "\n",
    "def run_single_experiment(X_train, y_train, X_test, y_test, model, number, ds_name, verbose=True, n_restarts_optimizer=0):\n",
    "    name, k = model\n",
    "    \n",
    "    metrics = {}\n",
    "    \n",
    "    gp = SphereVectorGP(kernel=k, n_restarts_optimizer=0)\n",
    "    gp.fit(X_train, y_train)\n",
    "    if verbose:\n",
    "        display(gp)\n",
    "        display(\"MLL:\", -gp.log_marginal_likelihood_value_ / X_train.shape[0])\n",
    "\n",
    "    mu_star, std = gp.predict(X_test, return_std=True)\n",
    "    metrics[\"name\"] = name\n",
    "    metrics[\"n\"] = number\n",
    "    metrics[\"dataset\"] = ds_name\n",
    "    metrics[\"fitted_gp\"] = str(gp)\n",
    "    metrics[\"MSE\"] = float(mse(y_test, mu_star))\n",
    "    metrics[\"PNLL\"] = float(pred_nll(y_test, mu_star, std))\n",
    "    if verbose:\n",
    "        display(metrics)\n",
    "    return metrics"
   ]
  },
  {
   "cell_type": "code",
   "execution_count": null,
   "id": "94928b92-62e0-4de9-a76b-3b1126de1578",
   "metadata": {},
   "outputs": [],
   "source": [
    "def mse_and_pnll_table(df, n_drop=0, tex_fname=None):\n",
    "    df = df.rename(columns={\"name\": \"Kernel\", \"dataset\": \"Dataset\"})\n",
    "    df[\"Dataset\"] = df[\"Dataset\"].apply(lambda ds: {\n",
    "        \"hodge_matern_sample\": r\"H.--M.\",\n",
    "        \"hodge_sample\": r\"Hodge\",\n",
    "        \"proj_matern_sample\": r\"Proj.~M.\",\n",
    "        \"rotating_vf\": \"Rotation\",\n",
    "        \"curl_free_hodge_matern_sample\": \"curl-free H.--M.\"\n",
    "    }.get(ds, ds))\n",
    "    results = {}\n",
    "    for col in [\"MSE\", \"PNLL\"]:\n",
    "        if n_drop > 0:\n",
    "            df_stats = df.groupby([\"Kernel\", \"Dataset\"]).apply(\n",
    "                lambda gp: gp.sort_values(col).iloc[:-n_drop]\n",
    "            ).reset_index(drop=True)\n",
    "        else:\n",
    "            df_stats = df.copy()\n",
    "        df_stats= df_stats[[\"Kernel\", \"Dataset\", col]].groupby([\"Kernel\", \"Dataset\"])[col].describe().rename(columns={\"mean\": \"Mean\", \"std\": \"Std\"})\n",
    "        df_stats = df_stats.reset_index(drop=False)\n",
    "        df_stats = df_stats[[\"Dataset\", \"Kernel\", \"Mean\", \"Std\"]]\n",
    "        df_stats = df_stats.melt(id_vars=[\"Kernel\", \"Dataset\"])\n",
    "        df_stats = df_stats.sort_values([\"Dataset\", \"variable\", \"Kernel\"]).rename(columns={\"variable\": \"\"})\n",
    "        df_stats = df_stats.pivot(columns=[\"Dataset\", \"\"], index=\"Kernel\")\n",
    "        df_stats = df_stats.droplevel(0, axis=1)\n",
    "        df_stats = df_stats\n",
    "        \n",
    "        s = df_stats.style.highlight_min(\n",
    "            axis=0, subset=[col for col in df_stats.columns if col[1] == \"Mean\"], props='font-weight:bold;'\n",
    "        )\n",
    "        s = s.format(precision=2)\n",
    "    \n",
    "        latex_table = s.to_latex(hrules=True)\n",
    "        latex_table = latex_table.replace(\"\\\\font-weightbold\", \"\\\\bf\")\n",
    "\n",
    "        if tex_fname is not None:\n",
    "            with open(os.path.join(\"tables\", f\"{tex_fname}__{col}.tex\"), \"w\") as f:\n",
    "                f.write(latex_table)\n",
    "\n",
    "        display(s)"
   ]
  },
  {
   "cell_type": "markdown",
   "id": "ec072eca-8528-4dff-bc94-0641e1bbc9b9",
   "metadata": {},
   "source": [
    "# Experimental vector fields"
   ]
  },
  {
   "cell_type": "code",
   "execution_count": null,
   "id": "b2930a5a-1488-4f21-a7b7-8854a600433e",
   "metadata": {},
   "outputs": [],
   "source": [
    "n_repeat = 10\n",
    "n_train = 30\n",
    "n_test = 100"
   ]
  },
  {
   "cell_type": "markdown",
   "id": "e35482e8-ef83-42e9-abf0-4d18bfb372b4",
   "metadata": {},
   "source": [
    "## Rotating vector field"
   ]
  },
  {
   "cell_type": "code",
   "execution_count": null,
   "id": "ab530497-6e17-4907-a193-d0f1cab822a8",
   "metadata": {},
   "outputs": [],
   "source": [
    "# vector field rotating around the z-axis\n",
    "def rotating_vector_field(car):\n",
    "    matrix = np.array([[0, 1, 0], [-1, 0, 0], [0, 0, 0]])\n",
    "    return car @ matrix"
   ]
  },
  {
   "cell_type": "code",
   "execution_count": null,
   "id": "d8370ffa-156e-4893-b525-679f2a77fc17",
   "metadata": {},
   "outputs": [],
   "source": [
    "def uniform_samples_hemisphere(n_samples, north=True):\n",
    "    samples = np.random.multivariate_normal(np.zeros(3), np.eye(3), size=n_samples)\n",
    "    samples[:, 2] = (1 if north else -1) * abs(samples[:, 2])\n",
    "    # normalize\n",
    "    samples = samples / jax.vmap(jnp.linalg.norm)(samples)[:, None]\n",
    "    return samples"
   ]
  },
  {
   "cell_type": "code",
   "execution_count": null,
   "id": "696b7109-0474-48b7-b77e-7c5f96c65ee2",
   "metadata": {},
   "outputs": [],
   "source": [
    "name_base = \"rotating_vf\"\n",
    "np.random.seed(42)\n",
    "for i in range(n_repeat):\n",
    "    name = f\"{name_base}__{i}\"\n",
    "    if os.path.exists(os.path.join(TEMP, f\"{name}.pickle\")):\n",
    "        continue\n",
    "    X_train = uniform_samples_hemisphere(n_train, north=True)\n",
    "    X_test = uniform_samples_hemisphere(n_test, north=False)\n",
    "    y_train = rotating_vector_field(X_train)\n",
    "    y_test = rotating_vector_field(X_test)\n",
    "    # to spherical coord\n",
    "    X_train, y_train = v_car_to_sph(X_train, y_train)\n",
    "    X_test, y_test = v_car_to_sph(X_test, y_test)\n",
    "    # save\n",
    "    save_experiment(X_train, y_train, X_test, y_test, name)"
   ]
  },
  {
   "cell_type": "markdown",
   "id": "f3e7a86d-9ce1-4508-9d60-d755b4d4cfbf",
   "metadata": {},
   "source": [
    "## Samples from projected Matern"
   ]
  },
  {
   "cell_type": "code",
   "execution_count": null,
   "id": "a3661624-f76f-4677-b0ef-cec6d97096eb",
   "metadata": {},
   "outputs": [],
   "source": [
    "np.random.seed(42)\n",
    "\n",
    "X_train = car_to_sph(uniform_samples_hemisphere(n_train, north=True))\n",
    "X_test = car_to_sph(uniform_samples_hemisphere(n_test, north=False))\n",
    "X = np.vstack([X_train, X_test])\n",
    "\n",
    "gp = SphereVectorGP(kernel=ProjectedMaternSphereKernel(kappa=0.5, nu=0.5))\n",
    "\n",
    "y = gp.sample_y(X, n_samples=n_repeat)\n",
    "\n",
    "name_base = \"proj_matern_sample\"\n",
    "for i in range(n_repeat):\n",
    "    name = f\"{name_base}__{i}\"\n",
    "    if os.path.exists(os.path.join(TEMP, f\"{name}.pickle\")):\n",
    "        continue\n",
    "    y_train = y[:n_train, :, i]\n",
    "    y_test = y[n_train:, :, i]\n",
    "    save_experiment(X_train, y_train, X_test, y_test, name)"
   ]
  },
  {
   "cell_type": "markdown",
   "id": "88137da6-b18a-4cb9-9c09-fa4783617a30",
   "metadata": {},
   "source": [
    "## Samples from Hodge-Matern"
   ]
  },
  {
   "cell_type": "code",
   "execution_count": null,
   "id": "8993d348-6998-4dc9-b450-7bb38adcbbcc",
   "metadata": {},
   "outputs": [],
   "source": [
    "np.random.seed(42)\n",
    "\n",
    "X_train = car_to_sph(uniform_samples_hemisphere(n_train, north=True))\n",
    "X_test = car_to_sph(uniform_samples_hemisphere(n_test, north=False))\n",
    "X = np.vstack([X_train, X_test])\n",
    "\n",
    "gp = SphereVectorGP(kernel=HodgeMaternSphereKernel(kappa=0.5, nu=0.5))\n",
    "\n",
    "y = gp.sample_y(X, n_samples=n_repeat)\n",
    "\n",
    "name_base = \"hodge_matern_sample\"\n",
    "for i in range(n_repeat):\n",
    "    name = f\"{name_base}__{i}\"\n",
    "    if os.path.exists(os.path.join(TEMP, f\"{name}.pickle\")):\n",
    "        continue\n",
    "    y_train = y[:n_train, :, i]\n",
    "    y_test = y[n_train:, :, i]\n",
    "    save_experiment(X_train, y_train, X_test, y_test, name)"
   ]
  },
  {
   "cell_type": "markdown",
   "id": "ef83f7d3-6f26-49d9-885e-3fac3f96046c",
   "metadata": {},
   "source": [
    "## Samples from Hodge-RBF"
   ]
  },
  {
   "cell_type": "code",
   "execution_count": null,
   "id": "e1b59c98-c335-4767-8ef1-7245f760ede2",
   "metadata": {},
   "outputs": [],
   "source": [
    "np.random.seed(42)\n",
    "\n",
    "X_train = car_to_sph(uniform_samples_hemisphere(n_train, north=True))\n",
    "X_test = car_to_sph(uniform_samples_hemisphere(n_test, north=False))\n",
    "X = np.vstack([X_train, X_test])\n",
    "\n",
    "gp = SphereVectorGP(kernel=HodgeSphereKernel(kappa=0.5))\n",
    "\n",
    "y = gp.sample_y(X, n_samples=n_repeat)\n",
    "\n",
    "name_base = \"hodge_sample\"\n",
    "for i in range(n_repeat):\n",
    "    name = f\"{name_base}__{i}\"\n",
    "    if os.path.exists(os.path.join(TEMP, f\"{name}.pickle\")):\n",
    "        continue\n",
    "    y_train = y[:n_train, :, i]\n",
    "    y_test = y[n_train:, :, i]\n",
    "    save_experiment(X_train, y_train, X_test, y_test, name)"
   ]
  },
  {
   "cell_type": "markdown",
   "id": "ae1d48bc-2f7c-4424-abb3-d06a5687c746",
   "metadata": {},
   "source": [
    "## Samples from curl-free Hodge-Matern"
   ]
  },
  {
   "cell_type": "code",
   "execution_count": null,
   "id": "2b39bbcb-2617-4783-ab4f-86c9659380c9",
   "metadata": {},
   "outputs": [],
   "source": [
    "np.random.seed(42)\n",
    "\n",
    "X_train = car_to_sph(uniform_samples_hemisphere(n_train, north=True))\n",
    "X_test = car_to_sph(uniform_samples_hemisphere(n_test, north=False))\n",
    "X = np.vstack([X_train, X_test])\n",
    "\n",
    "gp = SphereVectorGP(kernel=HodgeMaternCurlFreeSphereKernel(kappa=0.5, nu=0.5))\n",
    "\n",
    "y = gp.sample_y(X, n_samples=n_repeat)\n",
    "\n",
    "name_base = \"curl_free_hodge_matern_sample\"\n",
    "for i in range(n_repeat):\n",
    "    name = f\"{name_base}__{i}\"\n",
    "    if os.path.exists(os.path.join(TEMP, f\"{name}.pickle\")):\n",
    "        continue\n",
    "    y_train = y[:n_train, :, i]\n",
    "    y_test = y[n_train:, :, i]\n",
    "    save_experiment(X_train, y_train, X_test, y_test, name)"
   ]
  },
  {
   "cell_type": "markdown",
   "id": "a2393e47-4b02-4c7b-a838-75b5dc2baad9",
   "metadata": {},
   "source": [
    "# Run experiments"
   ]
  },
  {
   "cell_type": "code",
   "execution_count": null,
   "id": "563b75c0-c717-475f-8709-ede54b4ba648",
   "metadata": {},
   "outputs": [],
   "source": [
    "models = [\n",
    "    (\"Pure noise\", WhiteKernel()),\n",
    "    (r\"Proj.\", ConstantKernel(constant_value_bounds=(1e-5, 1e8)) * ProjectedSphereKernel(kappa=.2) + WhiteKernel()),\n",
    "    (r\"Hodge\", ConstantKernel(constant_value_bounds=(1e-5, 1e8)) * HodgeSphereKernel(kappa=.2) + WhiteKernel()),\n",
    "    (r\"H.--M.--$\\tfrac{1}{2}$\", ConstantKernel(constant_value_bounds=(1e-5, 1e8)) * HodgeMaternSphereKernel(kappa=.2, nu=0.5) + WhiteKernel()),\n",
    "    (r\"div-free Hodge\", ConstantKernel(constant_value_bounds=(1e-5, 1e8)) * HodgeDivFreeSphereKernel(kappa=.2) + WhiteKernel()),\n",
    "    (r\"div-free H.--M.--$\\tfrac{1}{2}$\", ConstantKernel(constant_value_bounds=(1e-5, 1e8)) * HodgeMaternDivFreeSphereKernel(kappa=.2, nu=0.5) + WhiteKernel()),\n",
    "    (r\"curl-free Hodge\", ConstantKernel(constant_value_bounds=(1e-5, 1e8)) * HodgeCurlFreeSphereKernel(kappa=.2) + WhiteKernel()),\n",
    "    (r\"curl-free H.--M.--$\\tfrac{1}{2}$\", ConstantKernel(constant_value_bounds=(1e-5, 1e8)) * HodgeMaternCurlFreeSphereKernel(kappa=.2, nu=0.5) + WhiteKernel()),\n",
    "    (r\"Proj.~M.--$\\tfrac{1}{2}$\", ConstantKernel(constant_value_bounds=(1e-5, 1e8)) * ProjectedMaternSphereKernel(kappa=.2, nu=0.5) + WhiteKernel()),\n",
    "]\n",
    "\n",
    "models = [\n",
    "    (re.sub(\"\\.\\s\", \".~\", name), kernel) for name, kernel in models\n",
    "]"
   ]
  },
  {
   "cell_type": "code",
   "execution_count": null,
   "id": "369eb299-5b85-498d-8d76-4728f3fcd75b",
   "metadata": {},
   "outputs": [],
   "source": [
    "fpath = os.path.join(\"temp\", \"results_synthetic_experiments.pickle\")\n",
    "if os.path.exists(fpath):\n",
    "    with open(fpath, 'rb')as f:\n",
    "        results = pickle.load(f)\n",
    "else:\n",
    "    results = {}\n",
    "\n",
    "try:\n",
    "    for dataset in os.listdir(TEMP):\n",
    "        if not dataset.endswith(\".pickle\"):\n",
    "            continue\n",
    "        ds_name, i = dataset.split(\".\")[0].split(\"__\")\n",
    "\n",
    "        for model in tqdm(models, desc=f\"{ds_name}, {i}\"):\n",
    "            name = model[0]\n",
    "            if (i, name, ds_name) in results:\n",
    "                continue\n",
    "            with open(os.path.join(TEMP, dataset), 'rb') as f:\n",
    "                X_train, y_train, X_test, y_test = pickle.load(f)\n",
    "\n",
    "            results[(i, name, ds_name)] = run_single_experiment(X_train, y_train, X_test, y_test, model, i, ds_name, verbose=False, n_restarts_optimizer=0)\n",
    "\n",
    "            with open(fpath, 'wb') as f:\n",
    "                pickle.dump(results, f)\n",
    "except:\n",
    "    pass"
   ]
  },
  {
   "cell_type": "code",
   "execution_count": null,
   "id": "c75517bb-4f7d-455b-af93-1c922fe265d0",
   "metadata": {},
   "outputs": [],
   "source": [
    "df = pd.DataFrame(results.values())"
   ]
  },
  {
   "cell_type": "code",
   "execution_count": null,
   "id": "6214c68d-ee07-479f-8b75-ded12b1191f6",
   "metadata": {},
   "outputs": [],
   "source": [
    "mse_and_pnll_table(df, n_drop=0, tex_fname=\"synthetic_experiments\")"
   ]
  },
  {
   "cell_type": "code",
   "execution_count": null,
   "id": "e9bdc2cb-81ca-44ea-bfed-978801175ae0",
   "metadata": {},
   "outputs": [],
   "source": []
  },
  {
   "cell_type": "code",
   "execution_count": null,
   "id": "19d39087-e4d5-4bf7-bb5c-f9bc828a58fa",
   "metadata": {},
   "outputs": [],
   "source": []
  }
 ],
 "metadata": {
  "kernelspec": {
   "display_name": "Python 3 (ipykernel)",
   "language": "python",
   "name": "python3"
  },
  "language_info": {
   "codemirror_mode": {
    "name": "ipython",
    "version": 3
   },
   "file_extension": ".py",
   "mimetype": "text/x-python",
   "name": "python",
   "nbconvert_exporter": "python",
   "pygments_lexer": "ipython3",
   "version": "3.8.15"
  }
 },
 "nbformat": 4,
 "nbformat_minor": 5
}
