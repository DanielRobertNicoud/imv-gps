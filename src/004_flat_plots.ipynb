{
 "cells": [
  {
   "cell_type": "code",
   "execution_count": null,
   "id": "76e1b687-944c-4cac-bc88-e57d8b5110d4",
   "metadata": {},
   "outputs": [],
   "source": [
    "from aux_functions import *\n",
    "\n",
    "import matplotlib.pyplot as plt\n",
    "import cartopy.crs as ccrs\n",
    "import os\n",
    "import numpy as np"
   ]
  },
  {
   "cell_type": "code",
   "execution_count": null,
   "id": "068b0e03-4ade-4abc-90e4-26b37ca2e532",
   "metadata": {},
   "outputs": [],
   "source": [
    "def earth_figure(mean=None, std=None, observations=None, kwargs={}, kwargs_contour={}):\n",
    "    # initialize figure\n",
    "    fig = plt.figure(figsize=(10, 5))\n",
    "    projection = ccrs.Robinson()\n",
    "    trsf = ccrs.PlateCarree()\n",
    "    ax = plt.axes(projection=projection)\n",
    "    ax.set_global()\n",
    "    ax.coastlines()\n",
    "    ax.gridlines(draw_labels=False, crs=trsf)\n",
    "    \n",
    "    # draw std if given\n",
    "    if std is None:\n",
    "        ax.stock_img()\n",
    "    else:\n",
    "        lon = np.linspace(-180, 180, 300)\n",
    "        lat = np.linspace(-89, 89, 300)\n",
    "        ax.contourf(lon, lat, std.reshape(300, 300), transform=ccrs.PlateCarree(), zorder=0, alpha=0.7, **kwargs_contour)\n",
    "    \n",
    "    # draw mean and observations if given\n",
    "    if mean is not None:\n",
    "        X_mean, y_mean = v_car_to_sph(mean[:, :3], mean[:, 3:])\n",
    "        q = ax.quiver(\n",
    "            X_mean[:, 1] * 180 / np.pi, X_mean[:, 0] * 180 / np.pi,\n",
    "            y_mean[:, 1], y_mean[:, 0],\n",
    "            **kwargs,\n",
    "            angles=\"uv\", transform=ccrs.PlateCarree(), zorder=1\n",
    "        )\n",
    "        if not kwargs:\n",
    "            q._init()\n",
    "            # arguments for obs\n",
    "            kwargs = dict(scale=q.scale, width=q.width)\n",
    "    \n",
    "    kwargs_obs = {**kwargs}\n",
    "    if \"width\" in kwargs_obs:\n",
    "        kwargs_obs[\"width\"] *= 2\n",
    "    \n",
    "    if observations is not None:\n",
    "        X_obs, y_obs = v_car_to_sph(observations[:, :3], observations[:, 3:])\n",
    "        ax.quiver(\n",
    "            X_obs[:, 1] * 180 / np.pi, X_obs[:, 0] * 180 / np.pi,\n",
    "            y_obs[:, 1], y_obs[:, 0],\n",
    "            angles=\"uv\",\n",
    "            **kwargs_obs,\n",
    "            color=\"r\", transform=ccrs.PlateCarree(),\n",
    "            zorder=2\n",
    "        )\n",
    "    \n",
    "    fig.tight_layout()\n",
    "    return fig, kwargs"
   ]
  },
  {
   "cell_type": "code",
   "execution_count": null,
   "id": "3372f406-4af6-4def-a9ba-4592ad27fbe5",
   "metadata": {},
   "outputs": [],
   "source": [
    "out_folder = \"flat-figures\"\n",
    "folder = os.path.join(\"blender-data\", \"outputs\")"
   ]
  },
  {
   "cell_type": "markdown",
   "id": "c25d5fb1-bfe1-4518-9ddb-daaf6e9af1c0",
   "metadata": {},
   "source": [
    "### Uncertainty color scale"
   ]
  },
  {
   "cell_type": "code",
   "execution_count": null,
   "id": "fd5f2009-53c1-480a-8407-5955ba75a5c4",
   "metadata": {},
   "outputs": [],
   "source": [
    "std_pm = np.array(np.genfromtxt(os.path.join(folder, \"ERA5_projm12_kappa=0.5_orbit_0_pred__mercator__std.csv\"), delimiter=\",\"))\n",
    "std_hm = np.array(np.genfromtxt(os.path.join(folder, \"ERA5_dfhm12_kappa=0.5_orbit_0_pred__mercator__std.csv\"), delimiter=\",\"))\n",
    "\n",
    "u_min, u_max = 0, max(std_pm.max(), std_hm.max())\n",
    "levels = np.linspace(u_min, u_max, 50)\n",
    "\n",
    "kwargs_contour = {\"levels\": levels, \"antialiased\": True}"
   ]
  },
  {
   "cell_type": "markdown",
   "id": "e2e58349-6de9-4856-a14b-b2f35284b567",
   "metadata": {},
   "source": [
    "# 6c: ground truth and observations\n",
    "\n",
    "This one sets `kwargs` so needs to be run first!"
   ]
  },
  {
   "cell_type": "code",
   "execution_count": null,
   "id": "ac8e3c85-c7ae-43e7-a16d-abd3b9be85b7",
   "metadata": {},
   "outputs": [],
   "source": [
    "means_file = \"ERA5_orbit_0__mercator__mean.csv\"\n",
    "obs_file = \"ERA5_orbit_0__mercator__observations.csv\"\n",
    "\n",
    "mean = np.array(np.genfromtxt(os.path.join(folder, means_file), delimiter=\",\"))\n",
    "observations = np.array(np.genfromtxt(os.path.join(folder, obs_file), delimiter=\",\"))\n",
    "\n",
    "fig, kwargs = earth_figure(mean=mean, observations=observations, kwargs_contour=kwargs_contour)\n",
    "fig.savefig(os.path.join(out_folder, \"fig6c_flat.pdf\"))"
   ]
  },
  {
   "cell_type": "markdown",
   "id": "f80c1c8d-d186-4e9a-a971-13df3a3689dc",
   "metadata": {},
   "source": [
    "# 6a: predictive mean and std (proj. Matern)"
   ]
  },
  {
   "cell_type": "code",
   "execution_count": null,
   "id": "90197ab1-0a1d-4b4d-b244-b93e4969e763",
   "metadata": {},
   "outputs": [],
   "source": [
    "means_file = \"ERA5_projm12_kappa=0.5_orbit_0_pred__mercator__mean.csv\"\n",
    "std_file = \"ERA5_projm12_kappa=0.5_orbit_0_pred__mercator__std.csv\"\n",
    "obs_file = \"ERA5_orbit_0__mercator__observations.csv\"\n",
    "\n",
    "mean = np.array(np.genfromtxt(os.path.join(folder, means_file), delimiter=\",\"))\n",
    "std = np.array(np.genfromtxt(os.path.join(folder, std_file), delimiter=\",\"))\n",
    "observations = np.array(np.genfromtxt(os.path.join(folder, obs_file), delimiter=\",\"))\n",
    "\n",
    "fig, _ = earth_figure(mean=mean, std=std, observations=observations, kwargs=kwargs, kwargs_contour=kwargs_contour)\n",
    "fig.savefig(os.path.join(out_folder, \"fig6a_flat.pdf\"))"
   ]
  },
  {
   "cell_type": "markdown",
   "id": "bd1a6082-0ea0-4ba7-8e30-42a76c9d6cfe",
   "metadata": {},
   "source": [
    "# 6b: posterior sample (proj. Matern)"
   ]
  },
  {
   "cell_type": "code",
   "execution_count": null,
   "id": "cc35cbdc-4f56-44b6-b7ca-b9e660546171",
   "metadata": {},
   "outputs": [],
   "source": [
    "means_file = \"ERA5_projm12_kappa=0.5_orbit_0_sample_5__mercator__mean.csv\"\n",
    "\n",
    "mean = np.array(np.genfromtxt(os.path.join(folder, means_file), delimiter=\",\"))\n",
    "observations = np.array(np.genfromtxt(os.path.join(folder, obs_file), delimiter=\",\"))\n",
    "\n",
    "fig, _ = earth_figure(mean=mean, kwargs={}, kwargs_contour=kwargs_contour)\n",
    "fig.savefig(os.path.join(out_folder, \"fig6b_flat.pdf\"))"
   ]
  },
  {
   "cell_type": "markdown",
   "id": "2c2bc8ad-7953-4ca3-bd74-2f3a5659b0cd",
   "metadata": {},
   "source": [
    "# 6d: predicted mean and std (Hodge)"
   ]
  },
  {
   "cell_type": "code",
   "execution_count": null,
   "id": "c1d1da46-d8c2-4ba2-9262-9ac4ecf77b94",
   "metadata": {},
   "outputs": [],
   "source": [
    "means_file = \"ERA5_dfhm12_kappa=0.5_orbit_0_pred__mercator__mean.csv\"\n",
    "std_file = \"ERA5_dfhm12_kappa=0.5_orbit_0_pred__mercator__std.csv\"\n",
    "obs_file = \"ERA5_orbit_0__mercator__observations.csv\"\n",
    "\n",
    "mean = np.array(np.genfromtxt(os.path.join(folder, means_file), delimiter=\",\"))\n",
    "std = np.array(np.genfromtxt(os.path.join(folder, std_file), delimiter=\",\"))\n",
    "observations = np.array(np.genfromtxt(os.path.join(folder, obs_file), delimiter=\",\"))\n",
    "\n",
    "fig, _ = earth_figure(mean=mean, std=std, observations=observations, kwargs=kwargs, kwargs_contour=kwargs_contour)\n",
    "fig.savefig(os.path.join(out_folder, \"fig6d_flat.pdf\"))"
   ]
  },
  {
   "cell_type": "markdown",
   "id": "a7bf89ac-8712-4b50-87d6-6751fe341c79",
   "metadata": {},
   "source": [
    "# 6e: posterior sample (Hodge)"
   ]
  },
  {
   "cell_type": "code",
   "execution_count": null,
   "id": "b025b92a-e4e1-481f-a7ca-ed907f014fad",
   "metadata": {},
   "outputs": [],
   "source": [
    "means_file = \"ERA5_dfhm12_kappa=0.5_orbit_0_sample_1__mercator__mean.csv\"\n",
    "\n",
    "mean = np.array(np.genfromtxt(os.path.join(folder, means_file), delimiter=\",\"))\n",
    "observations = np.array(np.genfromtxt(os.path.join(folder, obs_file), delimiter=\",\"))\n",
    "\n",
    "fig, _ = earth_figure(mean=mean, kwargs={}, kwargs_contour=kwargs_contour)\n",
    "fig.savefig(os.path.join(out_folder, \"fig6e_flat.pdf\"))"
   ]
  },
  {
   "cell_type": "code",
   "execution_count": null,
   "id": "dec3f51f-8823-4576-9cf1-6215d27430cc",
   "metadata": {},
   "outputs": [],
   "source": []
  }
 ],
 "metadata": {
  "kernelspec": {
   "display_name": "Python 3 (ipykernel)",
   "language": "python",
   "name": "python3"
  },
  "language_info": {
   "codemirror_mode": {
    "name": "ipython",
    "version": 3
   },
   "file_extension": ".py",
   "mimetype": "text/x-python",
   "name": "python",
   "nbconvert_exporter": "python",
   "pygments_lexer": "ipython3",
   "version": "3.8.15"
  }
 },
 "nbformat": 4,
 "nbformat_minor": 5
}
