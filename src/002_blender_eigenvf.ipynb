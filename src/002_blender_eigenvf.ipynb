{
 "cells": [
  {
   "cell_type": "code",
   "execution_count": null,
   "id": "d693b4e2-a22e-4225-9f9b-b44b47cf51e9",
   "metadata": {},
   "outputs": [],
   "source": [
    "from aux_functions import *\n",
    "\n",
    "import jax\n",
    "from jax.scipy.special import sph_harm\n",
    "import pandas as pd\n",
    "import os\n",
    "from mpl_toolkits.mplot3d import Axes3D\n",
    "from matplotlib import cm, colors\n",
    "import matplotlib.pyplot as plt\n",
    "from functools import partial\n",
    "\n",
    "from scipy.special import sph_harm"
   ]
  },
  {
   "cell_type": "code",
   "execution_count": null,
   "id": "dd5e880f-147c-4f08-860c-6daea9db70e4",
   "metadata": {},
   "outputs": [],
   "source": [
    "blender_folder = \"blender-data\"\n",
    "out_folder = os.path.join(\"blender-data\", \"outputs\")\n",
    "\n",
    "mean_inputs = pd.read_csv(\n",
    "    os.path.join(blender_folder, \"mean_inputs.csv\"),\n",
    "    names=[\"x\", \"y\", \"z\"]\n",
    ").to_numpy()\n",
    "\n",
    "more_mean_inputs = pd.read_csv(\n",
    "    os.path.join(blender_folder, \"input_locations.csv\"),\n",
    "    names=[\"x\", \"y\", \"z\"]\n",
    ").to_numpy()\n",
    "\n",
    "std_inputs = pd.read_csv(\n",
    "    os.path.join(blender_folder, \"std_inputs.csv\"),\n",
    "    names=[\"x\", \"y\", \"z\"]\n",
    ").to_numpy()\n",
    "\n",
    "mean_inputs.shape, more_mean_inputs.shape"
   ]
  },
  {
   "cell_type": "code",
   "execution_count": null,
   "id": "2f8f53cf-1933-4c99-9bcb-bcf4ceb4a8d2",
   "metadata": {},
   "outputs": [],
   "source": [
    "sph = car_to_sph(mean_inputs)"
   ]
  },
  {
   "cell_type": "markdown",
   "id": "aea399c2-a683-4c02-8a07-da75ebd73a6f",
   "metadata": {},
   "source": [
    "### Some spherical harmonics\n",
    "\n",
    "Taken from https://en.wikipedia.org/wiki/Table_of_spherical_harmonics"
   ]
  },
  {
   "cell_type": "code",
   "execution_count": null,
   "id": "98dcde67-de75-4198-b5e7-cc27680a264f",
   "metadata": {},
   "outputs": [],
   "source": [
    "@jax.jit\n",
    "def Y11(car):\n",
    "    return jnp.sqrt(3 / (4 * jnp.pi)) * car[0]\n",
    "\n",
    "@jax.jit\n",
    "def Y32(car):\n",
    "    return .25 * jnp.sqrt(105 / jnp.pi) * ((car[0]**2 - car[1]**2) * car[2])\n",
    "\n",
    "@jax.jit\n",
    "def Y42(car):\n",
    "    return 3 / 8 * jnp.sqrt(5 / jnp.pi) * (\n",
    "        (car[0]**2 - car[1]**2) * (7 * car[2]**2 - 1)\n",
    "    )"
   ]
  },
  {
   "cell_type": "code",
   "execution_count": null,
   "id": "993ecf79-045f-48ad-986d-74b7d48b3fc0",
   "metadata": {},
   "outputs": [],
   "source": [
    "@jax.jit\n",
    "def _single_proj_to_sphere(v, tb):\n",
    "    return tb @ tb.T @ v\n",
    "\n",
    "@jax.jit\n",
    "def _star(v, car):\n",
    "    return jnp.cross(car, v)\n",
    "\n",
    "@jax.jit\n",
    "def d_Y11(car, tangent_basis):\n",
    "    fun = Y11\n",
    "    # gradient in R3\n",
    "    vs = jax.vmap(jax.jacfwd(fun, argnums=0))(car)\n",
    "    # projection to sphere\n",
    "    vs = jax.vmap(_single_proj_to_sphere)(vs, tangent_basis)\n",
    "    return vs\n",
    "\n",
    "@jax.jit\n",
    "def sd_Y11(car, tangent_basis):\n",
    "    fun = Y11\n",
    "    # gradient in R3\n",
    "    vs = jax.vmap(jax.jacfwd(fun, argnums=0))(car)\n",
    "    # projection to sphere\n",
    "    vs = jax.vmap(_single_proj_to_sphere)(vs, tangent_basis)\n",
    "    vs = jax.vmap(_star)(vs, car)\n",
    "    return vs"
   ]
  },
  {
   "cell_type": "code",
   "execution_count": null,
   "id": "2438f1de-5074-404f-8702-b8ffda0363e1",
   "metadata": {},
   "outputs": [],
   "source": [
    "@jax.jit\n",
    "def d_Y32(car, tangent_basis):\n",
    "    fun = Y32\n",
    "    # gradient in R3\n",
    "    vs = jax.vmap(jax.jacfwd(fun, argnums=0))(car)\n",
    "    # projection to sphere\n",
    "    vs = jax.vmap(_single_proj_to_sphere)(vs, tangent_basis)\n",
    "    return vs\n",
    "\n",
    "@jax.jit\n",
    "def sd_Y32(car, tangent_basis):\n",
    "    fun = Y32\n",
    "    # gradient in R3\n",
    "    vs = jax.vmap(jax.jacfwd(fun, argnums=0))(car)\n",
    "    # projection to sphere\n",
    "    vs = jax.vmap(_single_proj_to_sphere)(vs, tangent_basis)\n",
    "    vs = jax.vmap(_star)(vs, car)\n",
    "    return vs"
   ]
  },
  {
   "cell_type": "code",
   "execution_count": null,
   "id": "dbdde7a2-eee8-41c3-9082-100aeb56c49c",
   "metadata": {},
   "outputs": [],
   "source": [
    "@jax.jit\n",
    "def d_Y42(car, tangent_basis):\n",
    "    fun = Y42\n",
    "    # gradient in R3\n",
    "    vs = jax.vmap(jax.jacfwd(fun, argnums=0))(car)\n",
    "    # projection to sphere\n",
    "    vs = jax.vmap(_single_proj_to_sphere)(vs, tangent_basis)\n",
    "    return vs\n",
    "\n",
    "@jax.jit\n",
    "def sd_Y42(car, tangent_basis):\n",
    "    fun = Y42\n",
    "    # gradient in R3\n",
    "    vs = jax.vmap(jax.jacfwd(fun, argnums=0))(car)\n",
    "    # projection to sphere\n",
    "    vs = jax.vmap(_single_proj_to_sphere)(vs, tangent_basis)\n",
    "    vs = jax.vmap(_star)(vs, car)\n",
    "    return vs"
   ]
  },
  {
   "cell_type": "code",
   "execution_count": null,
   "id": "da8abbc3-6b10-4fcb-94ac-23ffd5319e8b",
   "metadata": {},
   "outputs": [],
   "source": [
    "@jax.jit\n",
    "def Y73(car):\n",
    "    x, y, z = car\n",
    "    return 3 / 32 * jnp.sqrt(385 / jnp.pi) * (\n",
    "        (x**4 - 6 * x**2 * y**2 + y**4) * (1 - z**2)**2 * (13 * z**3 - 3 * z)\n",
    "    )\n",
    "\n",
    "@jax.jit\n",
    "def d_Y73(car, tangent_basis):\n",
    "    fun = Y73\n",
    "    # gradient in R3\n",
    "    vs = jax.vmap(jax.jacfwd(fun, argnums=0))(car)\n",
    "    # projection to sphere\n",
    "    vs = jax.vmap(_single_proj_to_sphere)(vs, tangent_basis)\n",
    "    return vs\n",
    "\n",
    "@jax.jit\n",
    "def sd_Y73(car, tangent_basis):\n",
    "    fun = Y73\n",
    "    # gradient in R3\n",
    "    vs = jax.vmap(jax.jacfwd(fun, argnums=0))(car)\n",
    "    # projection to sphere\n",
    "    vs = jax.vmap(_single_proj_to_sphere)(vs, tangent_basis)\n",
    "    vs = jax.vmap(_star)(vs, car)\n",
    "    return vs"
   ]
  },
  {
   "cell_type": "code",
   "execution_count": null,
   "id": "4f8e9ae7-1724-430d-bf17-a909fec28df2",
   "metadata": {},
   "outputs": [],
   "source": [
    "# jnp.sqrt(2) * (-1)**m * sph_harm(jnp.array([m]), jnp.array([ell]), phi, theta).real"
   ]
  },
  {
   "cell_type": "markdown",
   "id": "9c2a4b1f-6584-4099-9e08-867a836c24e8",
   "metadata": {},
   "source": [
    "### Plotting to check"
   ]
  },
  {
   "cell_type": "code",
   "execution_count": null,
   "id": "adc5465c-79d3-4871-8dbd-21aa762e6593",
   "metadata": {},
   "outputs": [],
   "source": [
    "def plot_harmonic(fun, d_fun, sd_fun, v_scale=1.):\n",
    "    nx, ny = 100j, 100j\n",
    "    u, v = np.mgrid[(-np.pi/2):(np.pi/2):ny, 0:2*np.pi:nx]\n",
    "    sph = np.stack([u.flatten(), v.flatten()]).T\n",
    "    tangent_basis = sphere_tangent_basis(sph)\n",
    "    car = sph_to_car(sph)\n",
    "    x, y, z = car.T\n",
    "    x, y, z = x.reshape(u.shape), y.reshape(u.shape), z.reshape(u.shape)\n",
    "    vals = jax.vmap(fun)(car).reshape(u.shape)\n",
    "    \n",
    "    fig = plt.figure(figsize=(8, 24))\n",
    "    ax1 = fig.add_subplot(311, projection='3d')\n",
    "    ax2 = fig.add_subplot(312, projection='3d')\n",
    "    ax3 = fig.add_subplot(313, projection='3d')\n",
    "    \n",
    "    norm = colors.Normalize(vmin = np.min(vals), vmax = np.max(vals), clip = False)\n",
    "    \n",
    "    ax1.plot_surface(\n",
    "        x, y, z, rstride=1, cstride=1, cmap=cm.coolwarm,\n",
    "        linewidth=0, antialiased=False,\n",
    "        facecolors=cm.coolwarm(norm(vals))\n",
    "    )\n",
    "    ax2.plot_surface(\n",
    "        x, y, z, rstride=1, cstride=1, cmap=cm.coolwarm,\n",
    "        linewidth=0, antialiased=False,\n",
    "        facecolors=cm.coolwarm(norm(vals))\n",
    "    )\n",
    "    ax3.plot_surface(\n",
    "        x, y, z, rstride=1, cstride=1, cmap=cm.coolwarm,\n",
    "        linewidth=0, antialiased=False,\n",
    "        facecolors=cm.coolwarm(norm(vals))\n",
    "    )\n",
    "    \n",
    "    # fewer points for vectors\n",
    "    \n",
    "    nx, ny = 25j, 25j\n",
    "    u, v = np.mgrid[(-np.pi/2):(np.pi/2):ny, 0:2*np.pi:nx]\n",
    "    sph = np.stack([u.flatten(), v.flatten()]).T\n",
    "    tangent_basis = sphere_tangent_basis(sph)\n",
    "    car = sph_to_car(sph)\n",
    "    x, y, z = car.T * 1.01\n",
    "    x, y, z = x.reshape(u.shape), y.reshape(u.shape), z.reshape(u.shape)\n",
    "    mask = (y.flatten() < 0)  # drop some stuff \"behind\"\n",
    "    vf_d = d_fun(car, tangent_basis)[mask] * v_scale\n",
    "    vf_sd = sd_fun(car, tangent_basis)[mask] * v_scale\n",
    "    \n",
    "    ax2.quiver(x.flatten()[mask], y.flatten()[mask], z.flatten()[mask], vf_d[:, 0], vf_d[:, 1], vf_d[:, 2], color=\"k\")\n",
    "    ax3.quiver(x.flatten()[mask], y.flatten()[mask], z.flatten()[mask], vf_sd[:, 0], vf_sd[:, 1], vf_sd[:, 2], color=\"k\")\n",
    "    return fig"
   ]
  },
  {
   "cell_type": "code",
   "execution_count": null,
   "id": "c1abd17b-b2ad-473d-bc27-7f140e2a3dc3",
   "metadata": {},
   "outputs": [],
   "source": [
    "fig = plot_harmonic(Y11, d_Y11, sd_Y11, .5)"
   ]
  },
  {
   "cell_type": "code",
   "execution_count": null,
   "id": "35ebe0b8-fd7b-4638-ace4-8e91ce533483",
   "metadata": {},
   "outputs": [],
   "source": [
    "fig = plot_harmonic(Y32, d_Y32, sd_Y32, .2)"
   ]
  },
  {
   "cell_type": "code",
   "execution_count": null,
   "id": "074e9602-b252-49a2-93cf-9c30bb60c9d5",
   "metadata": {},
   "outputs": [],
   "source": [
    "fig = plot_harmonic(Y42, d_Y42, sd_Y42, .1)"
   ]
  },
  {
   "cell_type": "code",
   "execution_count": null,
   "id": "e6a9627f-572e-4368-b66d-843ccb45df35",
   "metadata": {},
   "outputs": [],
   "source": [
    "fig = plot_harmonic(Y73, d_Y73, sd_Y73, .1)"
   ]
  },
  {
   "cell_type": "markdown",
   "id": "18e922b2-faed-434a-a222-7b707f1535ba",
   "metadata": {},
   "source": [
    "### Blender data generation"
   ]
  },
  {
   "cell_type": "code",
   "execution_count": null,
   "id": "962e3301-09c0-4a9c-9edd-97b7758301e5",
   "metadata": {},
   "outputs": [],
   "source": [
    "def blender_eigenfunctions(Y, d_Y, sd_Y, ell, m, inputs=mean_inputs):\n",
    "    # function\n",
    "    f = jax.vmap(Y)(std_inputs)\n",
    "    # vector fields\n",
    "    sph = car_to_sph(inputs)\n",
    "    tangent_basis = sphere_tangent_basis(sph)\n",
    "    d = d_Y(inputs, tangent_basis)\n",
    "    sd = sd_Y(inputs, tangent_basis)\n",
    "    # save\n",
    "    out_folder = os.path.join(\"blender-data\", \"outputs\")\n",
    "    np.savetxt(os.path.join(out_folder, f\"eigenfield_{ell=}_{m=}_curl_free__mean.csv\"), np.hstack([inputs, d / np.sqrt(ell * (ell + 1))]), delimiter=\",\")\n",
    "    np.savetxt(os.path.join(out_folder, f\"eigenfield_{ell=}_{m=}_curl_free__std.csv\"), f, delimiter=\",\")\n",
    "    np.savetxt(os.path.join(out_folder, f\"eigenfield_{ell=}_{m=}_div_free__mean.csv\"), np.hstack([inputs, sd / np.sqrt(ell * (ell + 1))]), delimiter=\",\")\n",
    "    np.savetxt(os.path.join(out_folder, f\"eigenfield_{ell=}_{m=}_div_free__std.csv\"), f, delimiter=\",\")"
   ]
  },
  {
   "cell_type": "code",
   "execution_count": null,
   "id": "dc0dec3c-ffaa-4248-bd42-889285fd4e5c",
   "metadata": {},
   "outputs": [],
   "source": [
    "blender_eigenfunctions(Y11, d_Y11, sd_Y11, ell=1, m=1)"
   ]
  },
  {
   "cell_type": "code",
   "execution_count": null,
   "id": "a490f346-f54d-44cc-8aad-fb02dd6bc2ab",
   "metadata": {},
   "outputs": [],
   "source": [
    "blender_eigenfunctions(Y32, d_Y32, sd_Y32, ell=3, m=2)"
   ]
  },
  {
   "cell_type": "code",
   "execution_count": null,
   "id": "6a24eaaa-aa37-489e-a343-a80d99d069fa",
   "metadata": {},
   "outputs": [],
   "source": [
    "blender_eigenfunctions(Y42, d_Y42, sd_Y42, ell=4, m=2)"
   ]
  },
  {
   "cell_type": "code",
   "execution_count": null,
   "id": "8b8e6f6f-0cc5-4099-b166-a3d4d24f2667",
   "metadata": {},
   "outputs": [],
   "source": [
    "blender_eigenfunctions(Y73, d_Y73, sd_Y73, ell=7, m=3, inputs=more_mean_inputs)"
   ]
  },
  {
   "cell_type": "code",
   "execution_count": null,
   "id": "650259bb-b7ff-416e-82d0-cc0779ad006e",
   "metadata": {},
   "outputs": [],
   "source": []
  }
 ],
 "metadata": {
  "kernelspec": {
   "display_name": "Python 3 (ipykernel)",
   "language": "python",
   "name": "python3"
  },
  "language_info": {
   "codemirror_mode": {
    "name": "ipython",
    "version": 3
   },
   "file_extension": ".py",
   "mimetype": "text/x-python",
   "name": "python",
   "nbconvert_exporter": "python",
   "pygments_lexer": "ipython3",
   "version": "3.8.15"
  }
 },
 "nbformat": 4,
 "nbformat_minor": 5
}
